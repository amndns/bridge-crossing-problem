{
 "cells": [
  {
   "cell_type": "markdown",
   "metadata": {},
   "source": [
    "# BRIDGE CROSSING PROBLEM\n",
    "\n",
    "October 12, 2017"
   ]
  },
  {
   "cell_type": "markdown",
   "metadata": {},
   "source": [
    "Welcome! This IPython notebook will go through the implementation of the the Uniform Cost Search Algorithm and A\\* Search Algorithm to solve the famous Bridge Crossing Problem. An analysis and comparison of the two algorithms will also be shown."
   ]
  },
  {
   "cell_type": "markdown",
   "metadata": {},
   "source": [
    "# 1. Search Algorithms"
   ]
  },
  {
   "cell_type": "markdown",
   "metadata": {},
   "source": [
    "Explain the representation of Search Space, Env."
   ]
  },
  {
   "cell_type": "markdown",
   "metadata": {},
   "source": [
    "## 1.1 Uniform Cost Search"
   ]
  },
  {
   "cell_type": "markdown",
   "metadata": {},
   "source": [
    "Insert Description Here"
   ]
  },
  {
   "cell_type": "code",
   "execution_count": 4,
   "metadata": {
    "collapsed": true
   },
   "outputs": [],
   "source": [
    "import bisect, itertools"
   ]
  },
  {
   "cell_type": "markdown",
   "metadata": {},
   "source": [
    "Insert Description Here"
   ]
  },
  {
   "cell_type": "code",
   "execution_count": 5,
   "metadata": {
    "collapsed": true
   },
   "outputs": [],
   "source": [
    "class Node:\n",
    "    def __init__(self, cost, state, steps):\n",
    "        self.cost = cost\n",
    "        self.state = state\n",
    "        self.steps = steps\n",
    "\n",
    "    def __lt__(self, other):\n",
    "        return self.cost < other.cost\n",
    "\n",
    "    def print_steps(self):\n",
    "        i = 0\n",
    "        while i < len(self.steps):\n",
    "            if (i+1) % 3 == 0:\n",
    "                print(self.steps[i], '<-')\n",
    "                i += 1\n",
    "            else:\n",
    "                print(self.steps[i], self.steps[i+1], '->')\n",
    "                i += 2"
   ]
  },
  {
   "cell_type": "markdown",
   "metadata": {},
   "source": [
    "Insert Description Here, Explain that this is part of the class Tree()"
   ]
  },
  {
   "cell_type": "code",
   "execution_count": 6,
   "metadata": {
    "collapsed": true
   },
   "outputs": [],
   "source": [
    "def uniform_cost_search(self):\n",
    "        num_visited = 0\n",
    "        fitness_len = len(self.fitness)\n",
    "        while True:\n",
    "            if not self.fringe:\n",
    "                return 'Failure'\n",
    "\n",
    "            # Explore Fringe\n",
    "            node = self.fringe.pop(0)\n",
    "            num_visited += 1\n",
    "\n",
    "            # Check for Goal State\n",
    "            if node.state == [1] * fitness_len:\n",
    "                print(node.cost, num_visited)\n",
    "                node.print_steps()\n",
    "                return 'Success'\n",
    "\n",
    "            # Generate Successor States\n",
    "            self.generate_nodes(node)"
   ]
  },
  {
   "cell_type": "markdown",
   "metadata": {},
   "source": [
    "Insert Description Here, Explain that this is part of the class Tree()"
   ]
  },
  {
   "cell_type": "code",
   "execution_count": 7,
   "metadata": {
    "collapsed": true
   },
   "outputs": [],
   "source": [
    "def generate_nodes(self, node):\n",
    "        fitness_len = len(self.fitness)\n",
    "        if len(node.steps) % 3 == 0:\n",
    "            for elem in itertools.combinations(list(range(fitness_len)), 2):\n",
    "                if (node.state[elem[0]] == 0 and node.state[elem[1]] == 0):\n",
    "                    new_state = list(node.state)\n",
    "                    new_state[elem[0]] = 1\n",
    "                    new_state[elem[1]] = 1\n",
    "\n",
    "                    new_steps = list(node.steps)\n",
    "                    new_steps.extend([elem[0]+1, elem[1]+1])\n",
    "\n",
    "                    new_cost = node.cost + max(self.fitness[elem[0]], self.fitness[elem[1]])\n",
    "\n",
    "                    new_node = Node(new_cost, new_state, new_steps)\n",
    "\n",
    "                    # Check for Repeated States\n",
    "                    if not self.has_repeated_states(new_node):\n",
    "                        bisect.insort(self.fringe, new_node)\n",
    "\n",
    "        else:\n",
    "            for elem in list(range(fitness_len)):\n",
    "                if (node.state[elem] == 1):\n",
    "                    new_state = list(node.state)\n",
    "                    new_state[elem] = 0\n",
    "\n",
    "                    new_steps = list(node.steps)\n",
    "                    new_steps.append(elem+1)\n",
    "\n",
    "                    new_cost = node.cost + self.fitness[elem]\n",
    "\n",
    "                    new_node = Node(new_cost, new_state, new_steps)\n",
    "\n",
    "                    # Check for Repeated States\n",
    "                    if not self.has_repeated_states(new_node):\n",
    "                        bisect.insort(self.fringe, new_node)"
   ]
  },
  {
   "cell_type": "markdown",
   "metadata": {},
   "source": [
    "Insert Description Here, Explain that this is part of the class Tree()"
   ]
  },
  {
   "cell_type": "code",
   "execution_count": 8,
   "metadata": {
    "collapsed": true
   },
   "outputs": [],
   "source": [
    "def has_repeated_states(self, node):\n",
    "        for item in self.fringe:\n",
    "            if node.state == item.state and node.cost < item.cost:\n",
    "                self.fringe.remove(item)\n",
    "                bisect.insort(self.fringe, node)\n",
    "                return True\n",
    "            if node.state == item.state:\n",
    "                return True\n",
    "        return False"
   ]
  },
  {
   "cell_type": "markdown",
   "metadata": {},
   "source": [
    "Insert Description Here, Explain that this is THE class Tree()"
   ]
  },
  {
   "cell_type": "code",
   "execution_count": 9,
   "metadata": {
    "collapsed": true
   },
   "outputs": [],
   "source": [
    "class Tree:\n",
    "    def __init__(self, fitness):\n",
    "        state = [0] * len(fitness)\n",
    "        steps = []\n",
    "        cost = 0\n",
    "        root = Node(cost, state, steps)\n",
    "\n",
    "        self.fringe = [root]\n",
    "        self.fitness = fitness\n",
    "\n",
    "    def has_repeated_states(self, node):\n",
    "        for item in self.fringe:\n",
    "            if node.state == item.state and node.cost < item.cost:\n",
    "                self.fringe.remove(item)\n",
    "                bisect.insort(self.fringe, node)\n",
    "                return True\n",
    "            if node.state == item.state:\n",
    "                return True\n",
    "        return False\n",
    "\n",
    "    def generate_nodes(self, node):\n",
    "        fitness_len = len(self.fitness)\n",
    "        if len(node.steps) % 3 == 0:\n",
    "            for elem in itertools.combinations(list(range(fitness_len)), 2):\n",
    "                if (node.state[elem[0]] == 0 and node.state[elem[1]] == 0):\n",
    "                    new_state = list(node.state)\n",
    "                    new_state[elem[0]] = 1\n",
    "                    new_state[elem[1]] = 1\n",
    "\n",
    "                    new_steps = list(node.steps)\n",
    "                    new_steps.extend([elem[0]+1, elem[1]+1])\n",
    "\n",
    "                    new_cost = node.cost + max(self.fitness[elem[0]], self.fitness[elem[1]])\n",
    "\n",
    "                    new_node = Node(new_cost, new_state, new_steps)\n",
    "\n",
    "                    # Check for Repeated States\n",
    "                    if not self.has_repeated_states(new_node):\n",
    "                        bisect.insort(self.fringe, new_node)\n",
    "\n",
    "        else:\n",
    "            for elem in list(range(fitness_len)):\n",
    "                if (node.state[elem] == 1):\n",
    "                    new_state = list(node.state)\n",
    "                    new_state[elem] = 0\n",
    "\n",
    "                    new_steps = list(node.steps)\n",
    "                    new_steps.append(elem+1)\n",
    "\n",
    "                    new_cost = node.cost + self.fitness[elem]\n",
    "\n",
    "                    new_node = Node(new_cost, new_state, new_steps)\n",
    "\n",
    "                    # Check for Repeated States\n",
    "                    if not self.has_repeated_states(new_node):\n",
    "                        bisect.insort(self.fringe, new_node)\n",
    "\n",
    "    def uniform_cost_search(self):\n",
    "        num_visited = 0\n",
    "        fitness_len = len(self.fitness)\n",
    "        while True:\n",
    "            if not self.fringe:\n",
    "                return 'Failure'\n",
    "\n",
    "            # Explore Fringe\n",
    "            node = self.fringe.pop(0)\n",
    "            num_visited += 1\n",
    "\n",
    "            # Check for Goal State\n",
    "            if node.state == [1] * fitness_len:\n",
    "                print(node.cost, num_visited)\n",
    "                node.print_steps()\n",
    "                return 'Success'\n",
    "\n",
    "            # Generate Successor States\n",
    "            self.generate_nodes(node)"
   ]
  },
  {
   "cell_type": "markdown",
   "metadata": {},
   "source": [
    "## 1.2 A\\* Search"
   ]
  },
  {
   "cell_type": "markdown",
   "metadata": {},
   "source": [
    "Insert Description Here"
   ]
  }
 ],
 "metadata": {
  "kernelspec": {
   "display_name": "Python 3",
   "language": "python",
   "name": "python3"
  },
  "language_info": {
   "codemirror_mode": {
    "name": "ipython",
    "version": 3
   },
   "file_extension": ".py",
   "mimetype": "text/x-python",
   "name": "python",
   "nbconvert_exporter": "python",
   "pygments_lexer": "ipython3",
   "version": "3.6.2"
  }
 },
 "nbformat": 4,
 "nbformat_minor": 2
}
