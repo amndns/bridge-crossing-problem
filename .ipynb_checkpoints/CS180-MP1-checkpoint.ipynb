{
 "cells": [
  {
   "cell_type": "markdown",
   "metadata": {},
   "source": [
    "# BRIDGE CROSSING PROBLEM\n",
    "\n",
    "October 12, 2017"
   ]
  },
  {
   "cell_type": "markdown",
   "metadata": {},
   "source": [
    "Welcome! This IPython notebook will go through the implementation of the the Uniform Cost Search Algorithm and A\\* Search Algorithm to solve the famous Bridge Crossing Problem. An analysis and comparison of the two algorithms will also be shown."
   ]
  },
  {
   "cell_type": "markdown",
   "metadata": {},
   "source": [
    "# 1. Search Algorithms"
   ]
  },
  {
   "cell_type": "markdown",
   "metadata": {},
   "source": [
    "RYAN...TASK ENVIRONMENT = (Performance Measure, External Environment, Actuators, Sensors)"
   ]
  },
  {
   "cell_type": "markdown",
   "metadata": {},
   "source": [
    "The state of the environment is represented as a list of boolean values with the *nth* element of the list corresponding to the *nth* person on the environment. The value of 0 means that the *nth* person has not crossed the bridge (at the left of the bridge), while the value of 1 means that the *nth* person crossed the bridge (at the right of the bridge). The state $[0,0,0,...,0]$ is an initial state, while $[1,1,1,...,1]$ is the goal state. An example is shown below."
   ]
  },
  {
   "cell_type": "markdown",
   "metadata": {},
   "source": [
    "*e.g.* Given 4 people, the state $[1,0,0,1]$ means that the *1st* and *4th* person already crossed, and the *2nd* and *3rd* hasn't."
   ]
  },
  {
   "cell_type": "markdown",
   "metadata": {},
   "source": [
    "The state space, on the other hand, is represented as a tree. The tree has multiple nodes and multiple branches. Nodes contain useful information about the current state of the environment, while the branches connect two nodes and it has a cost corresponding to the cost of going from the initial state to the current state."
   ]
  },
  {
   "cell_type": "markdown",
   "metadata": {},
   "source": [
    "## 1.1 Uniform Cost Search"
   ]
  },
  {
   "cell_type": "markdown",
   "metadata": {},
   "source": [
    "Useful libraries are imported. Bisect is used in this project for optimally inserting elements in a list in a sorted manner, while Itertools is used to generate a combination of a list."
   ]
  },
  {
   "cell_type": "code",
   "execution_count": 1,
   "metadata": {
    "collapsed": true
   },
   "outputs": [],
   "source": [
    "import bisect, itertools"
   ]
  },
  {
   "cell_type": "markdown",
   "metadata": {},
   "source": [
    "To reduce code complexity, the nodes of a tree are objects with cost, state, and steps as attributes."
   ]
  },
  {
   "cell_type": "markdown",
   "metadata": {},
   "source": [
    "*COST (Integer) -->* cost of going from the initial state to current state.<br />\n",
    "*STATE (List) -->* the current state of the environment as defined above.<br />\n",
    "*STEPS (List) -->* the sequence of steps of the people leading to the current state.<br />"
   ]
  },
  {
   "cell_type": "markdown",
   "metadata": {},
   "source": [
    "*e.g.* Given a Node $(10, [1,0,0,0], [1,3,3])$ means that the cost from initial state to current state, $[1,0,0,0]$, is 10. Moreover, the sequence of steps from initial state to current state is $[1,3,3]$, which means that 1 and 3 has crossed the bridge and 3 went back with the flashlight."
   ]
  },
  {
   "cell_type": "markdown",
   "metadata": {},
   "source": [
    "Notice that the inclusion of the steps attribute will aid with the identification of the path from the initial state to the goal state. With this, the sequence of steps of the solution can easily be printed out. The function print_steps uses the steps attribute to print the sequence of steps."
   ]
  },
  {
   "cell_type": "code",
   "execution_count": 2,
   "metadata": {
    "collapsed": true
   },
   "outputs": [],
   "source": [
    "class Node:\n",
    "    def __init__(self, cost, state, steps):\n",
    "        self.cost = cost\n",
    "        self.state = state\n",
    "        self.steps = steps\n",
    "\n",
    "    def __lt__(self, other):\n",
    "        return self.cost < other.cost\n",
    "\n",
    "    def print_steps(self):\n",
    "        i = 0\n",
    "        while i < len(self.steps):\n",
    "            if (i+1) % 3 == 0:\n",
    "                print(self.steps[i], '<-')\n",
    "                i += 1\n",
    "            else:\n",
    "                print(self.steps[i], self.steps[i+1], '->')\n",
    "                i += 2"
   ]
  },
  {
   "cell_type": "markdown",
   "metadata": {},
   "source": [
    "<br />The code snippet below is the Tree class. This is the code representation of the state space. The class contains the following attributes:"
   ]
  },
  {
   "cell_type": "markdown",
   "metadata": {},
   "source": [
    "*FRINGE (List) -->* collection of nodes yet to be expanded.<br />\n",
    "*FITNESS (List) -->* the original input; a list of the time required for the people to cross the bridge."
   ]
  },
  {
   "cell_type": "markdown",
   "metadata": {},
   "source": [
    "The fringe initially contains the root node, which contains the initial state, a cost of 0 (since it is the root node), and an empty steps list. The different class methods will be explained after the code snippet below."
   ]
  },
  {
   "cell_type": "code",
   "execution_count": 3,
   "metadata": {
    "collapsed": true
   },
   "outputs": [],
   "source": [
    "class Tree:\n",
    "    def __init__(self, fitness):\n",
    "        state = [0] * len(fitness)\n",
    "        steps = []\n",
    "        cost = 0\n",
    "        root = Node(cost, state, steps)\n",
    "\n",
    "        self.fringe = [root]\n",
    "        self.fitness = fitness\n",
    "\n",
    "    def has_repeated_states(self, node):\n",
    "        for item in self.fringe:\n",
    "            if node.state == item.state and node.cost < item.cost:\n",
    "                self.fringe.remove(item)\n",
    "                bisect.insort(self.fringe, node)\n",
    "                return True\n",
    "            if node.state == item.state:\n",
    "                return True\n",
    "        return False\n",
    "\n",
    "    def generate_nodes(self, node):\n",
    "        fitness_len = len(self.fitness)\n",
    "        if len(node.steps) % 3 == 0:\n",
    "            for elem in itertools.combinations(list(range(fitness_len)), 2):\n",
    "                if (node.state[elem[0]] == 0 and node.state[elem[1]] == 0):\n",
    "                    new_state = list(node.state)\n",
    "                    new_state[elem[0]] = 1\n",
    "                    new_state[elem[1]] = 1\n",
    "\n",
    "                    new_steps = list(node.steps)\n",
    "                    new_steps.extend([elem[0]+1, elem[1]+1])\n",
    "\n",
    "                    new_cost = node.cost + max(self.fitness[elem[0]], self.fitness[elem[1]])\n",
    "\n",
    "                    new_node = Node(new_cost, new_state, new_steps)\n",
    "\n",
    "                    # Check for Repeated States\n",
    "                    if not self.has_repeated_states(new_node):\n",
    "                        bisect.insort(self.fringe, new_node)\n",
    "\n",
    "        else:\n",
    "            for elem in list(range(fitness_len)):\n",
    "                if (node.state[elem] == 1):\n",
    "                    new_state = list(node.state)\n",
    "                    new_state[elem] = 0\n",
    "\n",
    "                    new_steps = list(node.steps)\n",
    "                    new_steps.append(elem+1)\n",
    "\n",
    "                    new_cost = node.cost + self.fitness[elem]\n",
    "\n",
    "                    new_node = Node(new_cost, new_state, new_steps)\n",
    "\n",
    "                    # Check for Repeated States\n",
    "                    if not self.has_repeated_states(new_node):\n",
    "                        bisect.insort(self.fringe, new_node)\n",
    "\n",
    "    def uniform_cost_search(self):\n",
    "        num_visited = 0\n",
    "        fitness_len = len(self.fitness)\n",
    "        while True:\n",
    "            if not self.fringe:\n",
    "                return\n",
    "\n",
    "            # Explore Fringe\n",
    "            node = self.fringe.pop(0)\n",
    "            num_visited += 1\n",
    "\n",
    "            # Check for Goal State\n",
    "            if node.state == [1] * fitness_len:\n",
    "                print(node.cost, num_visited)\n",
    "                node.print_steps()\n",
    "                return\n",
    "\n",
    "            # Generate Successor States\n",
    "            self.generate_nodes(node)"
   ]
  },
  {
   "cell_type": "markdown",
   "metadata": {},
   "source": [
    "<br />This class method contains the Uniform Cost Search algorithm. It continues to loop until either a goal state is found or if there exists no goal state. If the fringe is empty, then there exists no goal state. The algorithm continues to pop a node from the fringe and adds the successor nodes of that node inside the fringe while keeping the fringe sorted. As a modification to the algorithm, a loop counter was placed to identify the number of expanded nodes."
   ]
  },
  {
   "cell_type": "markdown",
   "metadata": {},
   "source": [
    "The successor nodes are generated by calling the class method generate_nodes with an argument of the popped node."
   ]
  },
  {
   "cell_type": "code",
   "execution_count": 4,
   "metadata": {
    "collapsed": true
   },
   "outputs": [],
   "source": [
    "def uniform_cost_search(self):\n",
    "        num_visited = 0\n",
    "        fitness_len = len(self.fitness)\n",
    "        while True:\n",
    "            if not self.fringe:\n",
    "                return\n",
    "\n",
    "            # Explore Fringe\n",
    "            node = self.fringe.pop(0)\n",
    "            num_visited += 1\n",
    "\n",
    "            # Check for Goal State\n",
    "            if node.state == [1] * fitness_len:\n",
    "                print(node.cost, num_visited)\n",
    "                node.print_steps()\n",
    "                return\n",
    "\n",
    "            # Generate Successor States\n",
    "            self.generate_nodes(node)"
   ]
  },
  {
   "cell_type": "markdown",
   "metadata": {},
   "source": [
    "<br />The generate_nodes class method generates all possible successor nodes from the passed node argument. The usual argument being passed into this method is the recently popped node from the fringe."
   ]
  },
  {
   "cell_type": "markdown",
   "metadata": {},
   "source": [
    "In the search space, there are two types of state being generated: a state where two people cross the bridge, and a state where one person returns with the flashlight. Given this configuration, how is the type of a state being identified? This greatly utilizes the node attribute: node.steps. Notice that whenever the length of node.steps is a multiple of 3, then the recent move was a person returning with the flashlight. Therefore, the next move should be two people crossing the bridge. Likewise, if the length of node.steps is not a multiple of 3, then the recent move was two people crossing. Therefore, the next move should be a person crossing back."
   ]
  },
  {
   "cell_type": "markdown",
   "metadata": {},
   "source": [
    "*e.g.* Given node.steps $[1,3,1,4,2]$ means that 1 and 3 crossed the bridge, 1 returned, then 4 and 2 crossed the bridge. The length of this is not a multiple of 3, hence all possible successor states from this are states where one person crosses back with the flashlight."
   ]
  },
  {
   "cell_type": "markdown",
   "metadata": {},
   "source": [
    "For the type of state where two people cross the bridge, the itertools library was used. The library was used to generate all possible 2-Combination of fitness_len. This returns a list of 2-tuple which then was used to generate the successor nodes. The numbers inside the 2-tuple are basically the two people crossing the bridge. The node.step is updated by changing 0s to a 1 (note that it is first checked if the two people have not crossed the bridge yet). The two people are also appended to the end of the node.steps. Lastly, node.cost is updated by adding the argument node's cost (path cost of the root to the parent node) with the max of the fitness of the two people."
   ]
  },
  {
   "cell_type": "markdown",
   "metadata": {},
   "source": [
    "The same principle happens with the type of state where one person returns. All possible successor nodes are generated (there is no need to use itertools here, a simple loop is enough): node.step is updated by changing 1s to a 0, the person gets appended to the end of node.step, and node.cost is updated by adding parent node's cost with the fitness of that person."
   ]
  },
  {
   "cell_type": "markdown",
   "metadata": {},
   "source": [
    "Lastly, repeated states must be checked first before the newly generated node gets inserted into the fringe."
   ]
  },
  {
   "cell_type": "code",
   "execution_count": 5,
   "metadata": {
    "collapsed": true
   },
   "outputs": [],
   "source": [
    "def generate_nodes(self, node):\n",
    "        fitness_len = len(self.fitness)\n",
    "        if len(node.steps) % 3 == 0:\n",
    "            for elem in itertools.combinations(list(range(fitness_len)), 2):\n",
    "                if (node.state[elem[0]] == 0 and node.state[elem[1]] == 0):\n",
    "                    new_state = list(node.state)\n",
    "                    new_state[elem[0]] = 1\n",
    "                    new_state[elem[1]] = 1\n",
    "\n",
    "                    new_steps = list(node.steps)\n",
    "                    new_steps.extend([elem[0]+1, elem[1]+1])\n",
    "\n",
    "                    new_cost = node.cost + max(self.fitness[elem[0]], self.fitness[elem[1]])\n",
    "\n",
    "                    new_node = Node(new_cost, new_state, new_steps)\n",
    "\n",
    "                    # Check for Repeated States\n",
    "                    if not self.has_repeated_states(new_node):\n",
    "                        bisect.insort(self.fringe, new_node)\n",
    "\n",
    "        else:\n",
    "            for elem in list(range(fitness_len)):\n",
    "                if (node.state[elem] == 1):\n",
    "                    new_state = list(node.state)\n",
    "                    new_state[elem] = 0\n",
    "\n",
    "                    new_steps = list(node.steps)\n",
    "                    new_steps.append(elem+1)\n",
    "\n",
    "                    new_cost = node.cost + self.fitness[elem]\n",
    "\n",
    "                    new_node = Node(new_cost, new_state, new_steps)\n",
    "\n",
    "                    # Check for Repeated States\n",
    "                    if not self.has_repeated_states(new_node):\n",
    "                        bisect.insort(self.fringe, new_node)"
   ]
  },
  {
   "cell_type": "markdown",
   "metadata": {},
   "source": [
    "<br />The has_repeated_states class method checks if the state of a node (node.state) is already contained within the fringe. This is a crucial part of the Uniform Cost Search algorithm since a repeated state is to be avoided. The idea is to replace a node in a fringe with another node with the same state but with a cheaper cost. If node.state is in the fringe, the path cost to the node has to be checked. If it is less than the path cost of the node stored in the fringe, the node in the fringe has to be replaced. If it is not, nothing has to be done."
   ]
  },
  {
   "cell_type": "markdown",
   "metadata": {},
   "source": [
    "The has_repeated_states class method takes in a node as a parameter. The usual argument being passed into this method is a newly generated node from the generate_nodes method. The bisect library was also used to insort nodes into the fringe while keeping the fringe sorted."
   ]
  },
  {
   "cell_type": "code",
   "execution_count": 6,
   "metadata": {
    "collapsed": true
   },
   "outputs": [],
   "source": [
    "def has_repeated_states(self, node):\n",
    "        for item in self.fringe:\n",
    "            if node.state == item.state and node.cost < item.cost:\n",
    "                self.fringe.remove(item) # CHANGE this to remove(index)\n",
    "                bisect.insort(self.fringe, node)\n",
    "                return True\n",
    "            if node.state == item.state:\n",
    "                return True\n",
    "        return False"
   ]
  },
  {
   "cell_type": "markdown",
   "metadata": {},
   "source": [
    "## 1.2 A\\* Search"
   ]
  },
  {
   "cell_type": "markdown",
   "metadata": {},
   "source": [
    "Insert Description Here"
   ]
  },
  {
   "cell_type": "markdown",
   "metadata": {},
   "source": [
    "Lorem Ipsum"
   ]
  },
  {
   "cell_type": "markdown",
   "metadata": {},
   "source": [
    "# 2. Input and Output"
   ]
  },
  {
   "cell_type": "markdown",
   "metadata": {},
   "source": [
    "## 2.1 Uniform Cost Search Algorithm"
   ]
  },
  {
   "cell_type": "markdown",
   "metadata": {},
   "source": [
    "### 2.1.1 Input: 1, 2, 5, 10"
   ]
  },
  {
   "cell_type": "code",
   "execution_count": 8,
   "metadata": {
    "scrolled": true
   },
   "outputs": [
    {
     "name": "stdout",
     "output_type": "stream",
     "text": [
      "17 27\n",
      "1 2 ->\n",
      "1 <-\n",
      "3 4 ->\n",
      "2 <-\n",
      "1 2 ->\n"
     ]
    }
   ],
   "source": [
    "# import time\n",
    "# t = time.process_time()\n",
    "\n",
    "inp = [1,2,5,10]\n",
    "tree = Tree(inp)\n",
    "tree.uniform_cost_search()\n",
    "\n",
    "# elapsed_time = time.process_time() - t\n",
    "# print(elapsed_time)\n",
    "\n",
    "# Expected execution time is approx. 0.0011 seconds"
   ]
  },
  {
   "cell_type": "markdown",
   "metadata": {},
   "source": [
    "### 2.1.2 Input: 1, 2, 5, 10, 3, 4, 14, 18, 20, 50"
   ]
  },
  {
   "cell_type": "code",
   "execution_count": 23,
   "metadata": {
    "scrolled": true
   },
   "outputs": [
    {
     "name": "stdout",
     "output_type": "stream",
     "text": [
      "104 7123\n",
      "1 2 ->\n",
      "1 <-\n",
      "3 4 ->\n",
      "2 <-\n",
      "1 2 ->\n",
      "1 <-\n",
      "7 8 ->\n",
      "2 <-\n",
      "1 2 ->\n",
      "1 <-\n",
      "9 10 ->\n",
      "2 <-\n",
      "1 2 ->\n",
      "1 <-\n",
      "1 5 ->\n",
      "1 <-\n",
      "1 6 ->\n"
     ]
    }
   ],
   "source": [
    "# import time\n",
    "# t = time.process_time()\n",
    "\n",
    "inp = [1,2,5,10,3,4,14,18,20,50]\n",
    "tree = Tree(inp)\n",
    "tree.uniform_cost_search()\n",
    "\n",
    "# elapsed_time = time.process_time() - t\n",
    "# print(elapsed_time)\n",
    "\n",
    "# Expected execution time is approx. 9.77 seconds"
   ]
  },
  {
   "cell_type": "markdown",
   "metadata": {},
   "source": [
    "### 2.1.3 Input: 1, 2, 5, 10, 12, 17, 24, 21, 20, 20, 11, 33, 15, 19, 55"
   ]
  },
  {
   "cell_type": "code",
   "execution_count": null,
   "metadata": {
    "collapsed": true
   },
   "outputs": [],
   "source": [
    "# import time\n",
    "# t = time.process_time()\n",
    "\n",
    "inp = [1,2,5,10,3,4,14,18,20,50]\n",
    "tree = Tree(inp)\n",
    "tree.uniform_cost_search()\n",
    "\n",
    "# elapsed_time = time.process_time() - t\n",
    "# print(elapsed_time)\n",
    "\n",
    "# Expected execution time is approx. 19.58 hours"
   ]
  },
  {
   "cell_type": "raw",
   "metadata": {},
   "source": [
    "When the above statement is executed, the expected result is shown below. Note that when the statement is executed, the expected running time on a 2.6 GHz Intel Core i5 machine is 70487.98097300001 seconds or 19.579994714722225524 hours. The execution time is measured using Python3's time.process_time().\n",
    "\n",
    "182 335736\n",
    "1 2 ->\n",
    "1 <-\n",
    "4 11 ->\n",
    "2 <-\n",
    "1 2 ->\n",
    "1 <-\n",
    "5 13 ->\n",
    "2 <-\n",
    "1 2 ->\n",
    "1 <-\n",
    "6 14 ->\n",
    "2 <-\n",
    "1 2 ->\n",
    "1 <-\n",
    "9 10 ->\n",
    "2 <-\n",
    "1 2 ->\n",
    "1 <-\n",
    "7 8 ->\n",
    "2 <-\n",
    "1 2 ->\n",
    "1 <-\n",
    "12 15 ->\n",
    "2 <-\n",
    "1 2 ->\n",
    "1 <-\n",
    "1 3 ->"
   ]
  },
  {
   "cell_type": "markdown",
   "metadata": {},
   "source": [
    "## 2.2 A\\* Search Algorithm"
   ]
  },
  {
   "cell_type": "markdown",
   "metadata": {},
   "source": [
    "### 2.2.1 Input: 1, 2, 5, 10"
   ]
  },
  {
   "cell_type": "code",
   "execution_count": null,
   "metadata": {
    "collapsed": true
   },
   "outputs": [],
   "source": []
  },
  {
   "cell_type": "markdown",
   "metadata": {},
   "source": [
    "### 2.2.2 Input: 1, 2, 5, 10, 3, 4, 14, 18, 20, 50"
   ]
  },
  {
   "cell_type": "code",
   "execution_count": null,
   "metadata": {
    "collapsed": true
   },
   "outputs": [],
   "source": []
  },
  {
   "cell_type": "markdown",
   "metadata": {},
   "source": [
    "### 2.2.3 Input: 1, 2, 5, 10, 12, 17, 24, 21, 20, 20, 11, 33, 15, 19, 55"
   ]
  },
  {
   "cell_type": "code",
   "execution_count": null,
   "metadata": {
    "collapsed": true
   },
   "outputs": [],
   "source": []
  },
  {
   "cell_type": "markdown",
   "metadata": {},
   "source": [
    "# 3. Analysis and Conclusion"
   ]
  },
  {
   "cell_type": "markdown",
   "metadata": {},
   "source": [
    "This is the conclusion..."
   ]
  }
 ],
 "metadata": {
  "kernelspec": {
   "display_name": "Python 3",
   "language": "python",
   "name": "python3"
  },
  "language_info": {
   "codemirror_mode": {
    "name": "ipython",
    "version": 3
   },
   "file_extension": ".py",
   "mimetype": "text/x-python",
   "name": "python",
   "nbconvert_exporter": "python",
   "pygments_lexer": "ipython3",
   "version": "3.6.2"
  }
 },
 "nbformat": 4,
 "nbformat_minor": 2
}
