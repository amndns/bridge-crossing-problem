{
 "cells": [
  {
   "cell_type": "markdown",
   "metadata": {},
   "source": [
    "# BRIDGE CROSSING PROBLEM\n",
    "\n",
    "October 12, 2017"
   ]
  },
  {
   "cell_type": "markdown",
   "metadata": {},
   "source": [
    "Welcome! This IPython notebook will go through the implementation of the the Uniform Cost Search Algorithm and A\\* Search Algorithm to solve the famous Bridge Crossing Problem. An analysis and comparison of the two algorithms will also be shown."
   ]
  },
  {
   "cell_type": "markdown",
   "metadata": {},
   "source": [
    "# 1. Search Algorithms"
   ]
  },
  {
   "cell_type": "markdown",
   "metadata": {},
   "source": [
    "RYAN...TASK ENVIRONMENT = (Performance Measure, External Environment, Actuators, Sensors)"
   ]
  },
  {
   "cell_type": "markdown",
   "metadata": {},
   "source": [
    "The state of the environment is represented as a list of boolean values with the *nth* element of the list corresponding to the *nth* person on the environment. The value of 0 means that the *nth* person has not crossed the bridge (at the left of the bridge), while the value of 1 means that the *nth* person crossed the bridge (at the right of the bridge). The state $[0,0,0,...,0]$ is an initial state, while $[1,1,1,...,1]$ is the goal state. An example is shown below."
   ]
  },
  {
   "cell_type": "markdown",
   "metadata": {},
   "source": [
    "*e.g.* Given 4 people, the state $[1,0,0,1]$ means that the *1st* and *4th* person already crossed, and the *2nd* and *3rd* hasn't."
   ]
  },
  {
   "cell_type": "markdown",
   "metadata": {},
   "source": [
    "The state space, on the other hand, is represented as a tree. The tree has multiple nodes and multiple branches. Nodes contain useful information about the current state of the environment, while the branches connect two nodes and it has a cost corresponding to the cost of going from the initial state to the current state."
   ]
  },
  {
   "cell_type": "markdown",
   "metadata": {},
   "source": [
    "## 1.1 Uniform Cost Search"
   ]
  },
  {
   "cell_type": "markdown",
   "metadata": {},
   "source": [
    "Useful libraries are imported. Bisect is used in this project for optimally inserting elements in a list in a sorted manner, while Itertools is used to generate a combination of a list."
   ]
  },
  {
   "cell_type": "code",
   "execution_count": 2,
   "metadata": {
    "collapsed": true
   },
   "outputs": [],
   "source": [
    "import bisect, itertools"
   ]
  },
  {
   "cell_type": "markdown",
   "metadata": {},
   "source": [
    "To reduce code complexity, the nodes of a tree are objects with cost, state, and steps as attributes."
   ]
  },
  {
   "cell_type": "markdown",
   "metadata": {},
   "source": [
    "*COST (Integer) -->* cost of going from the initial state to current state.<br />\n",
    "*STATE (List) -->* the current state of the environment as defined above.<br />\n",
    "*STEPS (List) -->* the sequence of steps of the people leading to the current state.<br />"
   ]
  },
  {
   "cell_type": "markdown",
   "metadata": {},
   "source": [
    "*e.g.* Given a Node $(10, [1,0,0,0], [1,3,3])$ means that the cost from initial state to current state, $[1,0,0,0]$, is 10. Moreover, the sequence of steps from initial state to current state is $[1,3,3]$, which means that 1 and 3 has crossed the bridge and 3 went back with the flashlight."
   ]
  },
  {
   "cell_type": "markdown",
   "metadata": {},
   "source": [
    "Notice that the inclusion of the steps attribute will aid with the identification of the path from the initial state to the goal state. With this, the sequence of steps of the solution can easily be printed out. The function print_steps uses the steps attribute to print the sequence of steps."
   ]
  },
  {
   "cell_type": "code",
   "execution_count": 5,
   "metadata": {
    "collapsed": true
   },
   "outputs": [],
   "source": [
    "class Node:\n",
    "    def __init__(self, cost, state, steps):\n",
    "        self.cost = cost\n",
    "        self.state = state\n",
    "        self.steps = steps\n",
    "\n",
    "    def __lt__(self, other):\n",
    "        return self.cost < other.cost\n",
    "\n",
    "    def print_steps(self):\n",
    "        i = 0\n",
    "        while i < len(self.steps):\n",
    "            if (i+1) % 3 == 0:\n",
    "                print(self.steps[i], '<-')\n",
    "                i += 1\n",
    "            else:\n",
    "                print(self.steps[i], self.steps[i+1], '->')\n",
    "                i += 2"
   ]
  },
  {
   "cell_type": "markdown",
   "metadata": {},
   "source": [
    "<br />The code snippet below is the Tree class. This is the code representation of the state space. The class contains the following attributes:"
   ]
  },
  {
   "cell_type": "markdown",
   "metadata": {},
   "source": [
    "*FRINGE (List) -->* collection of nodes yet to be expanded.<br />\n",
    "*FITNESS (List) -->* the original input; a list of the time required for the people to cross the bridge."
   ]
  },
  {
   "cell_type": "markdown",
   "metadata": {},
   "source": [
    "The fringe initially contains the root node, which contains the initial state, a cost of 0 (since it is the root node), and an empty steps list. The different class methods will be explained after the code snippet below."
   ]
  },
  {
   "cell_type": "code",
   "execution_count": 9,
   "metadata": {
    "collapsed": true
   },
   "outputs": [],
   "source": [
    "class Tree:\n",
    "    def __init__(self, fitness):\n",
    "        state = [0] * len(fitness)\n",
    "        steps = []\n",
    "        cost = 0\n",
    "        root = Node(cost, state, steps)\n",
    "\n",
    "        self.fringe = [root]\n",
    "        self.fitness = fitness\n",
    "\n",
    "    def has_repeated_states(self, node):\n",
    "        for item in self.fringe:\n",
    "            if node.state == item.state and node.cost < item.cost:\n",
    "                self.fringe.remove(item)\n",
    "                bisect.insort(self.fringe, node)\n",
    "                return True\n",
    "            if node.state == item.state:\n",
    "                return True\n",
    "        return False\n",
    "\n",
    "    def generate_nodes(self, node):\n",
    "        fitness_len = len(self.fitness)\n",
    "        if len(node.steps) % 3 == 0:\n",
    "            for elem in itertools.combinations(list(range(fitness_len)), 2):\n",
    "                if (node.state[elem[0]] == 0 and node.state[elem[1]] == 0):\n",
    "                    new_state = list(node.state)\n",
    "                    new_state[elem[0]] = 1\n",
    "                    new_state[elem[1]] = 1\n",
    "\n",
    "                    new_steps = list(node.steps)\n",
    "                    new_steps.extend([elem[0]+1, elem[1]+1])\n",
    "\n",
    "                    new_cost = node.cost + max(self.fitness[elem[0]], self.fitness[elem[1]])\n",
    "\n",
    "                    new_node = Node(new_cost, new_state, new_steps)\n",
    "\n",
    "                    # Check for Repeated States\n",
    "                    if not self.has_repeated_states(new_node):\n",
    "                        bisect.insort(self.fringe, new_node)\n",
    "\n",
    "        else:\n",
    "            for elem in list(range(fitness_len)):\n",
    "                if (node.state[elem] == 1):\n",
    "                    new_state = list(node.state)\n",
    "                    new_state[elem] = 0\n",
    "\n",
    "                    new_steps = list(node.steps)\n",
    "                    new_steps.append(elem+1)\n",
    "\n",
    "                    new_cost = node.cost + self.fitness[elem]\n",
    "\n",
    "                    new_node = Node(new_cost, new_state, new_steps)\n",
    "\n",
    "                    # Check for Repeated States\n",
    "                    if not self.has_repeated_states(new_node):\n",
    "                        bisect.insort(self.fringe, new_node)\n",
    "\n",
    "    def uniform_cost_search(self):\n",
    "        num_visited = 0\n",
    "        fitness_len = len(self.fitness)\n",
    "        while True:\n",
    "            if not self.fringe:\n",
    "                return 'Failure'\n",
    "\n",
    "            # Explore Fringe\n",
    "            node = self.fringe.pop(0)\n",
    "            num_visited += 1\n",
    "\n",
    "            # Check for Goal State\n",
    "            if node.state == [1] * fitness_len:\n",
    "                print(node.cost, num_visited)\n",
    "                node.print_steps()\n",
    "                return 'Success'\n",
    "\n",
    "            # Generate Successor States\n",
    "            self.generate_nodes(node)"
   ]
  },
  {
   "cell_type": "markdown",
   "metadata": {},
   "source": [
    "<br />This class method contains the Uniform Cost Search algorithm. It continues to loop until either a goal state is found or if there exists no goal state. If the fringe is empty, then there exists no goal state. The algorithm continues to pop a node from the fringe and adds the successor nodes of that node inside the fringe while keeping the fringe sorted. As a modification to the algorithm, a loop counter was placed to identify the number of expanded nodes."
   ]
  },
  {
   "cell_type": "markdown",
   "metadata": {},
   "source": [
    "The successor nodes are generated by calling the class method generate_nodes with an argument of the popped node."
   ]
  },
  {
   "cell_type": "code",
   "execution_count": 6,
   "metadata": {
    "collapsed": true
   },
   "outputs": [],
   "source": [
    "def uniform_cost_search(self):\n",
    "        num_visited = 0\n",
    "        fitness_len = len(self.fitness)\n",
    "        while True:\n",
    "            if not self.fringe:\n",
    "                return 'Failure'\n",
    "\n",
    "            # Explore Fringe\n",
    "            node = self.fringe.pop(0)\n",
    "            num_visited += 1\n",
    "\n",
    "            # Check for Goal State\n",
    "            if node.state == [1] * fitness_len:\n",
    "                print(node.cost, num_visited)\n",
    "                node.print_steps()\n",
    "                return 'Success'\n",
    "\n",
    "            # Generate Successor States\n",
    "            self.generate_nodes(node)"
   ]
  },
  {
   "cell_type": "markdown",
   "metadata": {},
   "source": [
    "<br />Insert Description Here, Explain that this is part of the class Tree()"
   ]
  },
  {
   "cell_type": "code",
   "execution_count": 7,
   "metadata": {
    "collapsed": true
   },
   "outputs": [],
   "source": [
    "def generate_nodes(self, node):\n",
    "        fitness_len = len(self.fitness)\n",
    "        if len(node.steps) % 3 == 0:\n",
    "            for elem in itertools.combinations(list(range(fitness_len)), 2):\n",
    "                if (node.state[elem[0]] == 0 and node.state[elem[1]] == 0):\n",
    "                    new_state = list(node.state)\n",
    "                    new_state[elem[0]] = 1\n",
    "                    new_state[elem[1]] = 1\n",
    "\n",
    "                    new_steps = list(node.steps)\n",
    "                    new_steps.extend([elem[0]+1, elem[1]+1])\n",
    "\n",
    "                    new_cost = node.cost + max(self.fitness[elem[0]], self.fitness[elem[1]])\n",
    "\n",
    "                    new_node = Node(new_cost, new_state, new_steps)\n",
    "\n",
    "                    # Check for Repeated States\n",
    "                    if not self.has_repeated_states(new_node):\n",
    "                        bisect.insort(self.fringe, new_node)\n",
    "\n",
    "        else:\n",
    "            for elem in list(range(fitness_len)):\n",
    "                if (node.state[elem] == 1):\n",
    "                    new_state = list(node.state)\n",
    "                    new_state[elem] = 0\n",
    "\n",
    "                    new_steps = list(node.steps)\n",
    "                    new_steps.append(elem+1)\n",
    "\n",
    "                    new_cost = node.cost + self.fitness[elem]\n",
    "\n",
    "                    new_node = Node(new_cost, new_state, new_steps)\n",
    "\n",
    "                    # Check for Repeated States\n",
    "                    if not self.has_repeated_states(new_node):\n",
    "                        bisect.insort(self.fringe, new_node)"
   ]
  },
  {
   "cell_type": "markdown",
   "metadata": {},
   "source": [
    "<br />The has_repeated_states class method checks if the state of a node (node.state) is already contained within the fringe. This is a crucial part of the Uniform Cost Search algorithm since a repeated state is to be avoided. The If node.state is in the fringe, the path cost to the node has to be checked if it is less than the path cost of the node stored in the fringe. If it is, the node in the fringe has to be replaced. If it is not, nothing has to be done."
   ]
  },
  {
   "cell_type": "markdown",
   "metadata": {},
   "source": [
    "The has_repeated_states class method takes in a node as a parameter. The usual argument being passed into this method is a newly generated node from the generate_nodes method."
   ]
  },
  {
   "cell_type": "code",
   "execution_count": 8,
   "metadata": {
    "collapsed": true
   },
   "outputs": [],
   "source": [
    "def has_repeated_states(self, node):\n",
    "        for item in self.fringe:\n",
    "            if node.state == item.state and node.cost < item.cost:\n",
    "                self.fringe.remove(item)\n",
    "                bisect.insort(self.fringe, node)\n",
    "                return True\n",
    "            if node.state == item.state:\n",
    "                return True\n",
    "        return False"
   ]
  },
  {
   "cell_type": "markdown",
   "metadata": {},
   "source": [
    "Insert Description Here, Explain that this is THE class Tree()"
   ]
  },
  {
   "cell_type": "markdown",
   "metadata": {},
   "source": [
    "## 1.2 A\\* Search"
   ]
  },
  {
   "cell_type": "markdown",
   "metadata": {},
   "source": [
    "Insert Description Here"
   ]
  }
 ],
 "metadata": {
  "kernelspec": {
   "display_name": "Python 3",
   "language": "python",
   "name": "python3"
  },
  "language_info": {
   "codemirror_mode": {
    "name": "ipython",
    "version": 3
   },
   "file_extension": ".py",
   "mimetype": "text/x-python",
   "name": "python",
   "nbconvert_exporter": "python",
   "pygments_lexer": "ipython3",
   "version": "3.6.2"
  }
 },
 "nbformat": 4,
 "nbformat_minor": 2
}
